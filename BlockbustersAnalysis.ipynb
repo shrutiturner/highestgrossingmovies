{
 "cells": [
  {
   "cell_type": "markdown",
   "metadata": {},
   "source": [
    "# Blockbusters Analysis\n",
    "\n",
    "A dataset was found on Kaggle which outlines information on the top 10 highest grossing movies between the years 1975 and 2018. The dataset can be found here: https://www.kaggle.com/bidyutchanda/top-10-highest-grossing-films-19752018\n",
    "\n",
    "Using the information in the dataset, the intention is to do some initial data analysis to answer two simpler questions and then to fit a model to the data to determine whether the success of a movie can be predicted from the collected information.\n",
    "\n",
    "## Questions to answer\n",
    "\n",
    "1. Do higher rated movies gross more highly?\n",
    "\n",
    "2. Are higher grossing movies due to the fact they are open to a wider audience?\n",
    "\n",
    "3. Can the movie gross be predicted before release based on parameters in the dataset?"
   ]
  },
  {
   "cell_type": "code",
   "execution_count": 132,
   "metadata": {},
   "outputs": [],
   "source": [
    "# import commonly libraries\n",
    "import pandas as pd\n",
    "import numpy as np\n",
    "import matplotlib.pyplot as plt\n",
    "import seaborn as sns\n",
    "\n",
    "%matplotlib inline"
   ]
  },
  {
   "cell_type": "code",
   "execution_count": 133,
   "metadata": {},
   "outputs": [
    {
     "data": {
      "text/html": [
       "<div>\n",
       "<style scoped>\n",
       "    .dataframe tbody tr th:only-of-type {\n",
       "        vertical-align: middle;\n",
       "    }\n",
       "\n",
       "    .dataframe tbody tr th {\n",
       "        vertical-align: top;\n",
       "    }\n",
       "\n",
       "    .dataframe thead th {\n",
       "        text-align: right;\n",
       "    }\n",
       "</style>\n",
       "<table border=\"1\" class=\"dataframe\">\n",
       "  <thead>\n",
       "    <tr style=\"text-align: right;\">\n",
       "      <th></th>\n",
       "      <th>Main_Genre</th>\n",
       "      <th>Genre_2</th>\n",
       "      <th>Genre_3</th>\n",
       "      <th>imdb_rating</th>\n",
       "      <th>length</th>\n",
       "      <th>rank_in_year</th>\n",
       "      <th>rating</th>\n",
       "      <th>studio</th>\n",
       "      <th>title</th>\n",
       "      <th>worldwide_gross</th>\n",
       "      <th>year</th>\n",
       "    </tr>\n",
       "  </thead>\n",
       "  <tbody>\n",
       "    <tr>\n",
       "      <th>74</th>\n",
       "      <td>Thriller</td>\n",
       "      <td>Adventure</td>\n",
       "      <td>Action</td>\n",
       "      <td>7.4</td>\n",
       "      <td>133</td>\n",
       "      <td>5</td>\n",
       "      <td>PG-13</td>\n",
       "      <td>Paramount Pictures</td>\n",
       "      <td>Mission: Impossible - Ghost Protocol</td>\n",
       "      <td>$694,713,380.00</td>\n",
       "      <td>2011</td>\n",
       "    </tr>\n",
       "    <tr>\n",
       "      <th>372</th>\n",
       "      <td>Sci-Fi</td>\n",
       "      <td>Romance</td>\n",
       "      <td>Action</td>\n",
       "      <td>6.8</td>\n",
       "      <td>127</td>\n",
       "      <td>3</td>\n",
       "      <td>PG</td>\n",
       "      <td>Warner Bros</td>\n",
       "      <td>Superman II</td>\n",
       "      <td>$108,185,706.00</td>\n",
       "      <td>1981</td>\n",
       "    </tr>\n",
       "    <tr>\n",
       "      <th>429</th>\n",
       "      <td>History</td>\n",
       "      <td>Drama</td>\n",
       "      <td>Action</td>\n",
       "      <td>6.7</td>\n",
       "      <td>132</td>\n",
       "      <td>10</td>\n",
       "      <td>PG</td>\n",
       "      <td>Universal Pictures</td>\n",
       "      <td>Midway</td>\n",
       "      <td>$43,220,000.00</td>\n",
       "      <td>1976</td>\n",
       "    </tr>\n",
       "    <tr>\n",
       "      <th>137</th>\n",
       "      <td>Comedy</td>\n",
       "      <td>Adventure</td>\n",
       "      <td>Family</td>\n",
       "      <td>6.7</td>\n",
       "      <td>115</td>\n",
       "      <td>8</td>\n",
       "      <td>PG</td>\n",
       "      <td>Warner Bros</td>\n",
       "      <td>Charlie and the Chocolate Factory</td>\n",
       "      <td>$474,968,763.00</td>\n",
       "      <td>2005</td>\n",
       "    </tr>\n",
       "    <tr>\n",
       "      <th>99</th>\n",
       "      <td>Comedy</td>\n",
       "      <td>NaN</td>\n",
       "      <td>NaN</td>\n",
       "      <td>7.8</td>\n",
       "      <td>100</td>\n",
       "      <td>10</td>\n",
       "      <td>R</td>\n",
       "      <td>Warner Bros</td>\n",
       "      <td>The Hangover</td>\n",
       "      <td>$467,483,912.00</td>\n",
       "      <td>2009</td>\n",
       "    </tr>\n",
       "    <tr>\n",
       "      <th>247</th>\n",
       "      <td>Romance</td>\n",
       "      <td>Drama</td>\n",
       "      <td>Comedy</td>\n",
       "      <td>7.1</td>\n",
       "      <td>117</td>\n",
       "      <td>8</td>\n",
       "      <td>R</td>\n",
       "      <td>Universal Pictures</td>\n",
       "      <td>Four Weddings and a Funeral</td>\n",
       "      <td>$245,700,832.00</td>\n",
       "      <td>1994</td>\n",
       "    </tr>\n",
       "    <tr>\n",
       "      <th>145</th>\n",
       "      <td>Sci-Fi</td>\n",
       "      <td>Adventure</td>\n",
       "      <td>Action</td>\n",
       "      <td>6.4</td>\n",
       "      <td>124</td>\n",
       "      <td>6</td>\n",
       "      <td>PG-13</td>\n",
       "      <td>20th Century Fox</td>\n",
       "      <td>The Day After Tomorrow</td>\n",
       "      <td>$544,272,402.00</td>\n",
       "      <td>2004</td>\n",
       "    </tr>\n",
       "    <tr>\n",
       "      <th>88</th>\n",
       "      <td>Animation</td>\n",
       "      <td>Comedy</td>\n",
       "      <td>Animation</td>\n",
       "      <td>7.7</td>\n",
       "      <td>95</td>\n",
       "      <td>9</td>\n",
       "      <td>PG</td>\n",
       "      <td>Universal Pictures</td>\n",
       "      <td>Despicable Me</td>\n",
       "      <td>$543,113,985.00</td>\n",
       "      <td>2010</td>\n",
       "    </tr>\n",
       "    <tr>\n",
       "      <th>249</th>\n",
       "      <td>Drama</td>\n",
       "      <td>Crime</td>\n",
       "      <td>Action</td>\n",
       "      <td>6.9</td>\n",
       "      <td>141</td>\n",
       "      <td>10</td>\n",
       "      <td>PG-13</td>\n",
       "      <td>Paramount Pictures</td>\n",
       "      <td>Clear and Present Danger</td>\n",
       "      <td>$215,887,717.00</td>\n",
       "      <td>1994</td>\n",
       "    </tr>\n",
       "    <tr>\n",
       "      <th>394</th>\n",
       "      <td>Sci-Fi</td>\n",
       "      <td>Mystery</td>\n",
       "      <td>Adventure</td>\n",
       "      <td>6.4</td>\n",
       "      <td>132</td>\n",
       "      <td>5</td>\n",
       "      <td>PG</td>\n",
       "      <td>Paramount Pictures</td>\n",
       "      <td>Star Trek: The Motion Picture</td>\n",
       "      <td>$82,258,456.00</td>\n",
       "      <td>1979</td>\n",
       "    </tr>\n",
       "  </tbody>\n",
       "</table>\n",
       "</div>"
      ],
      "text/plain": [
       "    Main_Genre    Genre_2    Genre_3  imdb_rating  length  rank_in_year  \\\n",
       "74    Thriller  Adventure     Action          7.4     133             5   \n",
       "372     Sci-Fi    Romance     Action          6.8     127             3   \n",
       "429    History      Drama     Action          6.7     132            10   \n",
       "137     Comedy  Adventure     Family          6.7     115             8   \n",
       "99      Comedy        NaN        NaN          7.8     100            10   \n",
       "247    Romance      Drama     Comedy          7.1     117             8   \n",
       "145     Sci-Fi  Adventure     Action          6.4     124             6   \n",
       "88   Animation     Comedy  Animation          7.7      95             9   \n",
       "249      Drama      Crime     Action          6.9     141            10   \n",
       "394     Sci-Fi    Mystery  Adventure          6.4     132             5   \n",
       "\n",
       "    rating              studio                                 title  \\\n",
       "74   PG-13  Paramount Pictures  Mission: Impossible - Ghost Protocol   \n",
       "372     PG         Warner Bros                           Superman II   \n",
       "429     PG  Universal Pictures                                Midway   \n",
       "137     PG         Warner Bros     Charlie and the Chocolate Factory   \n",
       "99       R         Warner Bros                          The Hangover   \n",
       "247      R  Universal Pictures           Four Weddings and a Funeral   \n",
       "145  PG-13    20th Century Fox                The Day After Tomorrow   \n",
       "88      PG  Universal Pictures                         Despicable Me   \n",
       "249  PG-13  Paramount Pictures              Clear and Present Danger   \n",
       "394     PG  Paramount Pictures         Star Trek: The Motion Picture   \n",
       "\n",
       "      worldwide_gross  year  \n",
       "74   $694,713,380.00   2011  \n",
       "372  $108,185,706.00   1981  \n",
       "429   $43,220,000.00   1976  \n",
       "137  $474,968,763.00   2005  \n",
       "99   $467,483,912.00   2009  \n",
       "247  $245,700,832.00   1994  \n",
       "145  $544,272,402.00   2004  \n",
       "88   $543,113,985.00   2010  \n",
       "249  $215,887,717.00   1994  \n",
       "394   $82,258,456.00   1979  "
      ]
     },
     "execution_count": 133,
     "metadata": {},
     "output_type": "execute_result"
    }
   ],
   "source": [
    "# read the csv data into a pandas dataframe and view a sample of the dataframe to check it has imported as expected\n",
    "movie_data = pd.read_csv(\"blockbusters.csv\")\n",
    "movie_data.sample(10)"
   ]
  },
  {
   "cell_type": "markdown",
   "metadata": {},
   "source": [
    "The columns imported are as expected based on the information provided on Kaggle. The column names are simple and easy to use so don't need to be changed. Nothing seems to be a problem, but it will be important to check the data types, if there are any unexpected null values and explore further before analysis."
   ]
  },
  {
   "cell_type": "code",
   "execution_count": 50,
   "metadata": {},
   "outputs": [
    {
     "data": {
      "text/plain": [
       "(437, 11)"
      ]
     },
     "execution_count": 50,
     "metadata": {},
     "output_type": "execute_result"
    }
   ],
   "source": [
    "# check the size of the dataframe, as the data is for the top 10 movies across 44 years I am expected 440 rows of data\n",
    "movie_data.shape"
   ]
  },
  {
   "cell_type": "markdown",
   "metadata": {},
   "source": [
    "For some reason, it seems that there are 3 rows of data that are missing. Let's find out what's going on there..."
   ]
  },
  {
   "cell_type": "code",
   "execution_count": 51,
   "metadata": {},
   "outputs": [
    {
     "data": {
      "text/plain": [
       "2018    10\n",
       "2017    10\n",
       "1994    10\n",
       "1993    10\n",
       "1992    10\n",
       "1991    10\n",
       "1990    10\n",
       "1989    10\n",
       "1988    10\n",
       "1987    10\n",
       "1986    10\n",
       "1985    10\n",
       "1984    10\n",
       "1983    10\n",
       "1982    10\n",
       "1981    10\n",
       "1980    10\n",
       "1979    10\n",
       "1978    10\n",
       "1977    10\n",
       "1976    10\n",
       "1995    10\n",
       "1996    10\n",
       "1997    10\n",
       "2008    10\n",
       "2016    10\n",
       "2015    10\n",
       "2014    10\n",
       "2013    10\n",
       "2012    10\n",
       "2011    10\n",
       "2010    10\n",
       "2009    10\n",
       "2007    10\n",
       "1998    10\n",
       "2006    10\n",
       "2005    10\n",
       "2004    10\n",
       "2003    10\n",
       "2002    10\n",
       "2001    10\n",
       "2000    10\n",
       "1999    10\n",
       "1975     7\n",
       "Name: year, dtype: int64"
      ]
     },
     "execution_count": 51,
     "metadata": {},
     "output_type": "execute_result"
    }
   ],
   "source": [
    "# for which year(s) is there data missing?\n",
    "movie_data.year.value_counts()"
   ]
  },
  {
   "cell_type": "markdown",
   "metadata": {},
   "source": [
    "Looking at the number of unique values in the year column of the data set, it seems that the 3 missing rows of data are all in the year 1975. We can look into this in more detail."
   ]
  },
  {
   "cell_type": "code",
   "execution_count": 52,
   "metadata": {
    "scrolled": true
   },
   "outputs": [
    {
     "data": {
      "text/html": [
       "<div>\n",
       "<style scoped>\n",
       "    .dataframe tbody tr th:only-of-type {\n",
       "        vertical-align: middle;\n",
       "    }\n",
       "\n",
       "    .dataframe tbody tr th {\n",
       "        vertical-align: top;\n",
       "    }\n",
       "\n",
       "    .dataframe thead th {\n",
       "        text-align: right;\n",
       "    }\n",
       "</style>\n",
       "<table border=\"1\" class=\"dataframe\">\n",
       "  <thead>\n",
       "    <tr style=\"text-align: right;\">\n",
       "      <th></th>\n",
       "      <th>Main_Genre</th>\n",
       "      <th>Genre_2</th>\n",
       "      <th>Genre_3</th>\n",
       "      <th>imdb_rating</th>\n",
       "      <th>length</th>\n",
       "      <th>rank_in_year</th>\n",
       "      <th>rating</th>\n",
       "      <th>studio</th>\n",
       "      <th>title</th>\n",
       "      <th>worldwide_gross</th>\n",
       "      <th>year</th>\n",
       "    </tr>\n",
       "  </thead>\n",
       "  <tbody>\n",
       "    <tr>\n",
       "      <th>430</th>\n",
       "      <td>Drama</td>\n",
       "      <td>Crime</td>\n",
       "      <td>NaN</td>\n",
       "      <td>8.1</td>\n",
       "      <td>125</td>\n",
       "      <td>4</td>\n",
       "      <td>R</td>\n",
       "      <td>Warner Bros</td>\n",
       "      <td>Dog Day Afternoon</td>\n",
       "      <td>$50,000,000.00</td>\n",
       "      <td>1975</td>\n",
       "    </tr>\n",
       "    <tr>\n",
       "      <th>431</th>\n",
       "      <td>Romance</td>\n",
       "      <td>Drama</td>\n",
       "      <td>NaN</td>\n",
       "      <td>6.3</td>\n",
       "      <td>109</td>\n",
       "      <td>5</td>\n",
       "      <td>R</td>\n",
       "      <td>Columbia Pictures</td>\n",
       "      <td>Shampoo</td>\n",
       "      <td>$49,407,734.00</td>\n",
       "      <td>1975</td>\n",
       "    </tr>\n",
       "    <tr>\n",
       "      <th>432</th>\n",
       "      <td>Thriller</td>\n",
       "      <td>Crime</td>\n",
       "      <td>Comedy</td>\n",
       "      <td>7.1</td>\n",
       "      <td>113</td>\n",
       "      <td>6</td>\n",
       "      <td>G</td>\n",
       "      <td>Metro-Goldwyn-Mayer</td>\n",
       "      <td>The Return of the Pink Panther</td>\n",
       "      <td>$41,833,347.00</td>\n",
       "      <td>1975</td>\n",
       "    </tr>\n",
       "    <tr>\n",
       "      <th>433</th>\n",
       "      <td>Music</td>\n",
       "      <td>Drama</td>\n",
       "      <td>Comedy</td>\n",
       "      <td>6.4</td>\n",
       "      <td>136</td>\n",
       "      <td>7</td>\n",
       "      <td>PG</td>\n",
       "      <td>Columbia Pictures</td>\n",
       "      <td>Funny Lady</td>\n",
       "      <td>$39,000,000.00</td>\n",
       "      <td>1975</td>\n",
       "    </tr>\n",
       "    <tr>\n",
       "      <th>434</th>\n",
       "      <td>Family</td>\n",
       "      <td>Western</td>\n",
       "      <td>Comedy</td>\n",
       "      <td>6.2</td>\n",
       "      <td>100</td>\n",
       "      <td>8</td>\n",
       "      <td>G</td>\n",
       "      <td>Walt Disney Pictures</td>\n",
       "      <td>The Apple Dumpling Gang</td>\n",
       "      <td>$36,853,000.00</td>\n",
       "      <td>1975</td>\n",
       "    </tr>\n",
       "    <tr>\n",
       "      <th>435</th>\n",
       "      <td>Drama</td>\n",
       "      <td>NaN</td>\n",
       "      <td>NaN</td>\n",
       "      <td>6.0</td>\n",
       "      <td>88</td>\n",
       "      <td>9</td>\n",
       "      <td>PG</td>\n",
       "      <td>Columbia Pictures</td>\n",
       "      <td>Aloha, Bobby and Rose</td>\n",
       "      <td>$35,000,000.00</td>\n",
       "      <td>1975</td>\n",
       "    </tr>\n",
       "    <tr>\n",
       "      <th>436</th>\n",
       "      <td>Drama</td>\n",
       "      <td>Western</td>\n",
       "      <td>War</td>\n",
       "      <td>6.4</td>\n",
       "      <td>103</td>\n",
       "      <td>10</td>\n",
       "      <td>PG</td>\n",
       "      <td>Universal Pictures</td>\n",
       "      <td>The Other Side of the Mountain</td>\n",
       "      <td>$34,673,100.00</td>\n",
       "      <td>1975</td>\n",
       "    </tr>\n",
       "  </tbody>\n",
       "</table>\n",
       "</div>"
      ],
      "text/plain": [
       "    Main_Genre  Genre_2 Genre_3  imdb_rating  length  rank_in_year rating  \\\n",
       "430      Drama    Crime     NaN          8.1     125             4      R   \n",
       "431    Romance    Drama     NaN          6.3     109             5      R   \n",
       "432   Thriller    Crime  Comedy          7.1     113             6      G   \n",
       "433      Music    Drama  Comedy          6.4     136             7     PG   \n",
       "434     Family  Western  Comedy          6.2     100             8      G   \n",
       "435      Drama      NaN     NaN          6.0      88             9     PG   \n",
       "436      Drama  Western     War          6.4     103            10     PG   \n",
       "\n",
       "                   studio                           title  worldwide_gross  \\\n",
       "430           Warner Bros               Dog Day Afternoon  $50,000,000.00    \n",
       "431     Columbia Pictures                         Shampoo  $49,407,734.00    \n",
       "432   Metro-Goldwyn-Mayer  The Return of the Pink Panther  $41,833,347.00    \n",
       "433     Columbia Pictures                      Funny Lady  $39,000,000.00    \n",
       "434  Walt Disney Pictures         The Apple Dumpling Gang  $36,853,000.00    \n",
       "435     Columbia Pictures           Aloha, Bobby and Rose  $35,000,000.00    \n",
       "436    Universal Pictures  The Other Side of the Mountain  $34,673,100.00    \n",
       "\n",
       "     year  \n",
       "430  1975  \n",
       "431  1975  \n",
       "432  1975  \n",
       "433  1975  \n",
       "434  1975  \n",
       "435  1975  \n",
       "436  1975  "
      ]
     },
     "execution_count": 52,
     "metadata": {},
     "output_type": "execute_result"
    }
   ],
   "source": [
    "# looking at the 1975 data specifically, what can we tell about the missing rows?\n",
    "movie_data.loc[movie_data['year'] == 1975]"
   ]
  },
  {
   "cell_type": "markdown",
   "metadata": {},
   "source": [
    "It seems that the dataset is missing the top 3 grossing movies from 1975. The question now, is what can we do about that? Without any information on these movies it is unlikely to be representative to make up data for these rows. Given there are still 337 rows of data it is unlikely that these 3 expected rows will have a significant impact on the answers to the questions. In this case, the use of the dataset can be used without any major concerns."
   ]
  },
  {
   "cell_type": "code",
   "execution_count": 53,
   "metadata": {},
   "outputs": [
    {
     "data": {
      "text/plain": [
       "Main_Genre          object\n",
       "Genre_2             object\n",
       "Genre_3             object\n",
       "imdb_rating        float64\n",
       "length               int64\n",
       "rank_in_year         int64\n",
       "rating              object\n",
       "studio              object\n",
       "title               object\n",
       "worldwide_gross     object\n",
       "year                 int64\n",
       "dtype: object"
      ]
     },
     "execution_count": 53,
     "metadata": {},
     "output_type": "execute_result"
    }
   ],
   "source": [
    "# to ensure that the data can be used as intended, it is worth checking they are in the expected format\n",
    "movie_data.dtypes"
   ]
  },
  {
   "cell_type": "markdown",
   "metadata": {},
   "source": [
    "All the columns of data are as expected and in a form that can be manipulated or used to answer the questions posed, except worldwide_gross. This ideally will be a number, but is not due to the dollar sign in each cell. This should be cleaned up."
   ]
  },
  {
   "cell_type": "code",
   "execution_count": 54,
   "metadata": {},
   "outputs": [
    {
     "data": {
      "text/html": [
       "<div>\n",
       "<style scoped>\n",
       "    .dataframe tbody tr th:only-of-type {\n",
       "        vertical-align: middle;\n",
       "    }\n",
       "\n",
       "    .dataframe tbody tr th {\n",
       "        vertical-align: top;\n",
       "    }\n",
       "\n",
       "    .dataframe thead th {\n",
       "        text-align: right;\n",
       "    }\n",
       "</style>\n",
       "<table border=\"1\" class=\"dataframe\">\n",
       "  <thead>\n",
       "    <tr style=\"text-align: right;\">\n",
       "      <th></th>\n",
       "      <th>Main_Genre</th>\n",
       "      <th>Genre_2</th>\n",
       "      <th>Genre_3</th>\n",
       "      <th>imdb_rating</th>\n",
       "      <th>length</th>\n",
       "      <th>rank_in_year</th>\n",
       "      <th>rating</th>\n",
       "      <th>studio</th>\n",
       "      <th>title</th>\n",
       "      <th>worldwide_gross</th>\n",
       "      <th>year</th>\n",
       "    </tr>\n",
       "  </thead>\n",
       "  <tbody>\n",
       "    <tr>\n",
       "      <th>0</th>\n",
       "      <td>Action</td>\n",
       "      <td>Adventure</td>\n",
       "      <td>Drama</td>\n",
       "      <td>7.4</td>\n",
       "      <td>135</td>\n",
       "      <td>1</td>\n",
       "      <td>PG-13</td>\n",
       "      <td>Walt Disney Pictures</td>\n",
       "      <td>Black Panther</td>\n",
       "      <td>700,059,566</td>\n",
       "      <td>2018</td>\n",
       "    </tr>\n",
       "    <tr>\n",
       "      <th>1</th>\n",
       "      <td>Action</td>\n",
       "      <td>Adventure</td>\n",
       "      <td>Sci-Fi</td>\n",
       "      <td>8.5</td>\n",
       "      <td>156</td>\n",
       "      <td>2</td>\n",
       "      <td>PG-13</td>\n",
       "      <td>Walt Disney Pictures</td>\n",
       "      <td>Avengers: Infinity War</td>\n",
       "      <td>678,815,482</td>\n",
       "      <td>2018</td>\n",
       "    </tr>\n",
       "    <tr>\n",
       "      <th>2</th>\n",
       "      <td>Animation</td>\n",
       "      <td>Action</td>\n",
       "      <td>Adventure</td>\n",
       "      <td>7.8</td>\n",
       "      <td>118</td>\n",
       "      <td>3</td>\n",
       "      <td>PG</td>\n",
       "      <td>Pixar</td>\n",
       "      <td>Incredibles 2</td>\n",
       "      <td>608,581,744</td>\n",
       "      <td>2018</td>\n",
       "    </tr>\n",
       "    <tr>\n",
       "      <th>3</th>\n",
       "      <td>Action</td>\n",
       "      <td>Adventure</td>\n",
       "      <td>Drama</td>\n",
       "      <td>6.2</td>\n",
       "      <td>129</td>\n",
       "      <td>4</td>\n",
       "      <td>PG-13</td>\n",
       "      <td>Universal Pictures</td>\n",
       "      <td>Jurassic World: Fallen Kingdom</td>\n",
       "      <td>416,769,345</td>\n",
       "      <td>2018</td>\n",
       "    </tr>\n",
       "    <tr>\n",
       "      <th>4</th>\n",
       "      <td>Action</td>\n",
       "      <td>Comedy</td>\n",
       "      <td>NaN</td>\n",
       "      <td>7.8</td>\n",
       "      <td>119</td>\n",
       "      <td>5</td>\n",
       "      <td>R</td>\n",
       "      <td>20th Century Fox</td>\n",
       "      <td>Deadpool 2</td>\n",
       "      <td>318,491,426</td>\n",
       "      <td>2018</td>\n",
       "    </tr>\n",
       "  </tbody>\n",
       "</table>\n",
       "</div>"
      ],
      "text/plain": [
       "  Main_Genre    Genre_2    Genre_3  imdb_rating  length  rank_in_year rating  \\\n",
       "0     Action  Adventure      Drama          7.4     135             1  PG-13   \n",
       "1     Action  Adventure     Sci-Fi          8.5     156             2  PG-13   \n",
       "2  Animation     Action  Adventure          7.8     118             3     PG   \n",
       "3     Action  Adventure      Drama          6.2     129             4  PG-13   \n",
       "4     Action     Comedy        NaN          7.8     119             5      R   \n",
       "\n",
       "                 studio                           title worldwide_gross  year  \n",
       "0  Walt Disney Pictures                   Black Panther     700,059,566  2018  \n",
       "1  Walt Disney Pictures          Avengers: Infinity War     678,815,482  2018  \n",
       "2                 Pixar                   Incredibles 2     608,581,744  2018  \n",
       "3    Universal Pictures  Jurassic World: Fallen Kingdom     416,769,345  2018  \n",
       "4      20th Century Fox                      Deadpool 2     318,491,426  2018  "
      ]
     },
     "execution_count": 54,
     "metadata": {},
     "output_type": "execute_result"
    }
   ],
   "source": [
    "# Remove the dollar sign from the worldwide_gross column and check this has worked\n",
    "movie_data.worldwide_gross = [x.strip('$') for x in movie_data.worldwide_gross]\n",
    "movie_data.head()"
   ]
  },
  {
   "cell_type": "markdown",
   "metadata": {},
   "source": [
    "Excellent - this seems to have worked as expected but it's worth checking the type before we start using it."
   ]
  },
  {
   "cell_type": "code",
   "execution_count": 55,
   "metadata": {},
   "outputs": [
    {
     "data": {
      "text/plain": [
       "Main_Genre          object\n",
       "Genre_2             object\n",
       "Genre_3             object\n",
       "imdb_rating        float64\n",
       "length               int64\n",
       "rank_in_year         int64\n",
       "rating              object\n",
       "studio              object\n",
       "title               object\n",
       "worldwide_gross     object\n",
       "year                 int64\n",
       "dtype: object"
      ]
     },
     "execution_count": 55,
     "metadata": {},
     "output_type": "execute_result"
    }
   ],
   "source": [
    "# check data types of columns once more\n",
    "movie_data.dtypes"
   ]
  },
  {
   "cell_type": "markdown",
   "metadata": {},
   "source": [
    "The worldwide_gross column is still showing as an object type rather than a float which is what we need. It's likely this is due to the commas in the data. So let's convert that now."
   ]
  },
  {
   "cell_type": "code",
   "execution_count": 56,
   "metadata": {},
   "outputs": [
    {
     "data": {
      "text/html": [
       "<div>\n",
       "<style scoped>\n",
       "    .dataframe tbody tr th:only-of-type {\n",
       "        vertical-align: middle;\n",
       "    }\n",
       "\n",
       "    .dataframe tbody tr th {\n",
       "        vertical-align: top;\n",
       "    }\n",
       "\n",
       "    .dataframe thead th {\n",
       "        text-align: right;\n",
       "    }\n",
       "</style>\n",
       "<table border=\"1\" class=\"dataframe\">\n",
       "  <thead>\n",
       "    <tr style=\"text-align: right;\">\n",
       "      <th></th>\n",
       "      <th>Main_Genre</th>\n",
       "      <th>Genre_2</th>\n",
       "      <th>Genre_3</th>\n",
       "      <th>imdb_rating</th>\n",
       "      <th>length</th>\n",
       "      <th>rank_in_year</th>\n",
       "      <th>rating</th>\n",
       "      <th>studio</th>\n",
       "      <th>title</th>\n",
       "      <th>worldwide_gross</th>\n",
       "      <th>year</th>\n",
       "    </tr>\n",
       "  </thead>\n",
       "  <tbody>\n",
       "    <tr>\n",
       "      <th>415</th>\n",
       "      <td>Fantasy</td>\n",
       "      <td>Comedy</td>\n",
       "      <td>NaN</td>\n",
       "      <td>6.5</td>\n",
       "      <td>98</td>\n",
       "      <td>6</td>\n",
       "      <td>PG</td>\n",
       "      <td>Warner Bros</td>\n",
       "      <td>Oh, God!</td>\n",
       "      <td>51061196.0</td>\n",
       "      <td>1977</td>\n",
       "    </tr>\n",
       "    <tr>\n",
       "      <th>169</th>\n",
       "      <td>Sci-Fi</td>\n",
       "      <td>Mystery</td>\n",
       "      <td>Action</td>\n",
       "      <td>7.7</td>\n",
       "      <td>145</td>\n",
       "      <td>10</td>\n",
       "      <td>PG-13</td>\n",
       "      <td>DreamWorks</td>\n",
       "      <td>Minority Report</td>\n",
       "      <td>358372926.0</td>\n",
       "      <td>2002</td>\n",
       "    </tr>\n",
       "    <tr>\n",
       "      <th>208</th>\n",
       "      <td>Romance</td>\n",
       "      <td>Drama</td>\n",
       "      <td>Comedy</td>\n",
       "      <td>7.2</td>\n",
       "      <td>123</td>\n",
       "      <td>9</td>\n",
       "      <td>R</td>\n",
       "      <td>Universal Pictures</td>\n",
       "      <td>Shakespeare in Love</td>\n",
       "      <td>289317794.0</td>\n",
       "      <td>1998</td>\n",
       "    </tr>\n",
       "    <tr>\n",
       "      <th>92</th>\n",
       "      <td>Animation</td>\n",
       "      <td>Adventure</td>\n",
       "      <td>Action</td>\n",
       "      <td>7.0</td>\n",
       "      <td>94</td>\n",
       "      <td>3</td>\n",
       "      <td>PG</td>\n",
       "      <td>20th Century Fox</td>\n",
       "      <td>Ice Age: Dawn of the Dinosaurs</td>\n",
       "      <td>886686817.0</td>\n",
       "      <td>2009</td>\n",
       "    </tr>\n",
       "    <tr>\n",
       "      <th>349</th>\n",
       "      <td>Sci-Fi</td>\n",
       "      <td>Adventure</td>\n",
       "      <td>Action</td>\n",
       "      <td>6.6</td>\n",
       "      <td>105</td>\n",
       "      <td>10</td>\n",
       "      <td>PG</td>\n",
       "      <td>Paramount Pictures</td>\n",
       "      <td>Star Trek III: The Search for Spock</td>\n",
       "      <td>76572238.0</td>\n",
       "      <td>1984</td>\n",
       "    </tr>\n",
       "    <tr>\n",
       "      <th>313</th>\n",
       "      <td>War</td>\n",
       "      <td>Drama</td>\n",
       "      <td>Comedy</td>\n",
       "      <td>7.3</td>\n",
       "      <td>121</td>\n",
       "      <td>4</td>\n",
       "      <td>R</td>\n",
       "      <td>Walt Disney Pictures</td>\n",
       "      <td>Good Morning, Vietnam</td>\n",
       "      <td>123922370.0</td>\n",
       "      <td>1987</td>\n",
       "    </tr>\n",
       "    <tr>\n",
       "      <th>64</th>\n",
       "      <td>Comedy</td>\n",
       "      <td>Animation</td>\n",
       "      <td>Adventure</td>\n",
       "      <td>6.7</td>\n",
       "      <td>88</td>\n",
       "      <td>5</td>\n",
       "      <td>PG</td>\n",
       "      <td>20th Century Fox</td>\n",
       "      <td>Ice Age: Continental Drift</td>\n",
       "      <td>877244782.0</td>\n",
       "      <td>2012</td>\n",
       "    </tr>\n",
       "    <tr>\n",
       "      <th>311</th>\n",
       "      <td>Thriller</td>\n",
       "      <td>Drama</td>\n",
       "      <td>NaN</td>\n",
       "      <td>6.9</td>\n",
       "      <td>119</td>\n",
       "      <td>2</td>\n",
       "      <td>R</td>\n",
       "      <td>Paramount Pictures</td>\n",
       "      <td>Fatal Attraction</td>\n",
       "      <td>156645693.0</td>\n",
       "      <td>1987</td>\n",
       "    </tr>\n",
       "    <tr>\n",
       "      <th>256</th>\n",
       "      <td>Thriller</td>\n",
       "      <td>Adventure</td>\n",
       "      <td>Action</td>\n",
       "      <td>6.3</td>\n",
       "      <td>112</td>\n",
       "      <td>7</td>\n",
       "      <td>R</td>\n",
       "      <td>Sony Pictures</td>\n",
       "      <td>Cliffhanger</td>\n",
       "      <td>255000211.0</td>\n",
       "      <td>1993</td>\n",
       "    </tr>\n",
       "    <tr>\n",
       "      <th>416</th>\n",
       "      <td>War</td>\n",
       "      <td>History</td>\n",
       "      <td>Drama</td>\n",
       "      <td>7.4</td>\n",
       "      <td>175</td>\n",
       "      <td>7</td>\n",
       "      <td>PG</td>\n",
       "      <td>Metro-Goldwyn-Mayer</td>\n",
       "      <td>A Bridge Too Far</td>\n",
       "      <td>50750000.0</td>\n",
       "      <td>1977</td>\n",
       "    </tr>\n",
       "  </tbody>\n",
       "</table>\n",
       "</div>"
      ],
      "text/plain": [
       "    Main_Genre    Genre_2    Genre_3  imdb_rating  length  rank_in_year  \\\n",
       "415    Fantasy     Comedy        NaN          6.5      98             6   \n",
       "169     Sci-Fi    Mystery     Action          7.7     145            10   \n",
       "208    Romance      Drama     Comedy          7.2     123             9   \n",
       "92   Animation  Adventure     Action          7.0      94             3   \n",
       "349     Sci-Fi  Adventure     Action          6.6     105            10   \n",
       "313        War      Drama     Comedy          7.3     121             4   \n",
       "64      Comedy  Animation  Adventure          6.7      88             5   \n",
       "311   Thriller      Drama        NaN          6.9     119             2   \n",
       "256   Thriller  Adventure     Action          6.3     112             7   \n",
       "416        War    History      Drama          7.4     175             7   \n",
       "\n",
       "    rating                studio                                title  \\\n",
       "415     PG           Warner Bros                             Oh, God!   \n",
       "169  PG-13            DreamWorks                      Minority Report   \n",
       "208      R    Universal Pictures                  Shakespeare in Love   \n",
       "92      PG      20th Century Fox       Ice Age: Dawn of the Dinosaurs   \n",
       "349     PG    Paramount Pictures  Star Trek III: The Search for Spock   \n",
       "313      R  Walt Disney Pictures                Good Morning, Vietnam   \n",
       "64      PG      20th Century Fox           Ice Age: Continental Drift   \n",
       "311      R    Paramount Pictures                     Fatal Attraction   \n",
       "256      R         Sony Pictures                          Cliffhanger   \n",
       "416     PG   Metro-Goldwyn-Mayer                     A Bridge Too Far   \n",
       "\n",
       "     worldwide_gross  year  \n",
       "415       51061196.0  1977  \n",
       "169      358372926.0  2002  \n",
       "208      289317794.0  1998  \n",
       "92       886686817.0  2009  \n",
       "349       76572238.0  1984  \n",
       "313      123922370.0  1987  \n",
       "64       877244782.0  2012  \n",
       "311      156645693.0  1987  \n",
       "256      255000211.0  1993  \n",
       "416       50750000.0  1977  "
      ]
     },
     "execution_count": 56,
     "metadata": {},
     "output_type": "execute_result"
    }
   ],
   "source": [
    "# remove commas from worldwide_gross and convert to integer type.\n",
    "movie_data.worldwide_gross = movie_data.worldwide_gross.str.replace(',', '').astype(float)\n",
    "movie_data.sample(10)"
   ]
  },
  {
   "cell_type": "code",
   "execution_count": 57,
   "metadata": {},
   "outputs": [
    {
     "data": {
      "text/plain": [
       "Main_Genre          object\n",
       "Genre_2             object\n",
       "Genre_3             object\n",
       "imdb_rating        float64\n",
       "length               int64\n",
       "rank_in_year         int64\n",
       "rating              object\n",
       "studio              object\n",
       "title               object\n",
       "worldwide_gross    float64\n",
       "year                 int64\n",
       "dtype: object"
      ]
     },
     "execution_count": 57,
     "metadata": {},
     "output_type": "execute_result"
    }
   ],
   "source": [
    "# check the types of the columns\n",
    "movie_data.dtypes"
   ]
  },
  {
   "cell_type": "markdown",
   "metadata": {},
   "source": [
    "It would now be worth checking if there are any unexpected null values in the data. We can expect null values in the Genre_2 and Genre_3 columns as movies may only fit into one genre. However, there should be no other null values."
   ]
  },
  {
   "cell_type": "code",
   "execution_count": 58,
   "metadata": {},
   "outputs": [
    {
     "data": {
      "text/plain": [
       "Main_Genre           0\n",
       "Genre_2             29\n",
       "Genre_3            141\n",
       "imdb_rating          0\n",
       "length               0\n",
       "rank_in_year         0\n",
       "rating               0\n",
       "studio               0\n",
       "title                0\n",
       "worldwide_gross      0\n",
       "year                 0\n",
       "dtype: int64"
      ]
     },
     "execution_count": 58,
     "metadata": {},
     "output_type": "execute_result"
    }
   ],
   "source": [
    "# count null values in each column\n",
    "movie_data.isnull().sum()"
   ]
  },
  {
   "cell_type": "markdown",
   "metadata": {},
   "source": [
    "Great - as thre are only null values in the expected columns we can move towards using the data to answer the questions posed at the beginning."
   ]
  },
  {
   "cell_type": "markdown",
   "metadata": {},
   "source": [
    "# Question 1: Are higher grossing movies due to the fact they are open to a wider audience?\n",
    "\n",
    "Here we can use only the imdb_rating and the worldwide_gross to find out the answer to this question. First let's select the data into a new dataframe and create a simple plot to see if there is an obvious answer."
   ]
  },
  {
   "cell_type": "code",
   "execution_count": 75,
   "metadata": {},
   "outputs": [
    {
     "data": {
      "text/html": [
       "<div>\n",
       "<style scoped>\n",
       "    .dataframe tbody tr th:only-of-type {\n",
       "        vertical-align: middle;\n",
       "    }\n",
       "\n",
       "    .dataframe tbody tr th {\n",
       "        vertical-align: top;\n",
       "    }\n",
       "\n",
       "    .dataframe thead th {\n",
       "        text-align: right;\n",
       "    }\n",
       "</style>\n",
       "<table border=\"1\" class=\"dataframe\">\n",
       "  <thead>\n",
       "    <tr style=\"text-align: right;\">\n",
       "      <th></th>\n",
       "      <th>imdb_rating</th>\n",
       "      <th>worldwide_gross</th>\n",
       "    </tr>\n",
       "  </thead>\n",
       "  <tbody>\n",
       "    <tr>\n",
       "      <th>340</th>\n",
       "      <td>7.8</td>\n",
       "      <td>2.386321e+08</td>\n",
       "    </tr>\n",
       "    <tr>\n",
       "      <th>245</th>\n",
       "      <td>4.8</td>\n",
       "      <td>3.416312e+08</td>\n",
       "    </tr>\n",
       "    <tr>\n",
       "      <th>243</th>\n",
       "      <td>6.8</td>\n",
       "      <td>3.515834e+08</td>\n",
       "    </tr>\n",
       "    <tr>\n",
       "      <th>80</th>\n",
       "      <td>8.4</td>\n",
       "      <td>1.063172e+09</td>\n",
       "    </tr>\n",
       "    <tr>\n",
       "      <th>246</th>\n",
       "      <td>7.3</td>\n",
       "      <td>2.472754e+08</td>\n",
       "    </tr>\n",
       "  </tbody>\n",
       "</table>\n",
       "</div>"
      ],
      "text/plain": [
       "     imdb_rating  worldwide_gross\n",
       "340          7.8     2.386321e+08\n",
       "245          4.8     3.416312e+08\n",
       "243          6.8     3.515834e+08\n",
       "80           8.4     1.063172e+09\n",
       "246          7.3     2.472754e+08"
      ]
     },
     "execution_count": 75,
     "metadata": {},
     "output_type": "execute_result"
    }
   ],
   "source": [
    "# select data relevant for question 1 and check it's as expected\n",
    "q1_data = movie_data[['imdb_rating', 'worldwide_gross']]\n",
    "q1_data.sample(5)"
   ]
  },
  {
   "cell_type": "markdown",
   "metadata": {},
   "source": [
    "Now we've got the data in a simplified form for use, it can be plotted to see if there are any observable trends."
   ]
  },
  {
   "cell_type": "code",
   "execution_count": 76,
   "metadata": {},
   "outputs": [
    {
     "data": {
      "image/png": "[encoded data removed]",
      "text/plain": [
       "<Figure size 720x504 with 1 Axes>"
      ]
     },
     "metadata": {
      "needs_background": "light"
     },
     "output_type": "display_data"
    }
   ],
   "source": [
    "# plot data for question 1\n",
    "q1_data.plot(x='imdb_rating', y='worldwide_gross', style='o', figsize=(10,7), title = \"IMDB rating vs Worldwide Gross\",\n",
    "            legend = False, );"
   ]
  },
  {
   "cell_type": "markdown",
   "metadata": {},
   "source": [
    "From the inital graph, it's difficult to see a definitive trend in the data. This is likely to be due to the one anomalous point at about 7.8 on the rating, with a very high gross. Perhaps with the removal of this point, and replotting the value, a trend may be seen visually."
   ]
  },
  {
   "cell_type": "code",
   "execution_count": 77,
   "metadata": {},
   "outputs": [
    {
     "data": {
      "image/png": "[encoded data removed]",
      "text/plain": [
       "<Figure size 720x504 with 1 Axes>"
      ]
     },
     "metadata": {
      "needs_background": "light"
     },
     "output_type": "display_data"
    }
   ],
   "source": [
    "# remove the anomalous point on the graph and replot\n",
    "max_gross = q1_data.worldwide_gross.max()\n",
    "q1_data2 = q1_data[q1_data.worldwide_gross != max_gross]\n",
    "q1_data2.plot(x='imdb_rating', y='worldwide_gross', style='o', figsize=(10,7), title = \"IMDB rating vs Worlwide Gross\",\n",
    "            legend = False, );"
   ]
  },
  {
   "cell_type": "markdown",
   "metadata": {},
   "source": [
    "Even with the removal of the anomalous point, it doesn't sem like there is an obvious trend in the data. \n",
    "\n",
    "\n",
    "__To answer question 1:__\n",
    "__It could not be said that more highly rate films are higher grossing.__"
   ]
  },
  {
   "cell_type": "markdown",
   "metadata": {},
   "source": [
    "## Question 2: Are higher grossing movies due to the fact they are open to a wider audience?\n",
    "\n",
    "To do this we will be focusing on the rating column to determine the appropriate age category of films and the worldwide gross.\n",
    "It could be thought that if a movie has a larger target audience (i.e. an age appropriate rating including more of the population) it may have a higher worldwide gross. Hopefully, some simple exploration will be able to answer this question."
   ]
  },
  {
   "cell_type": "code",
   "execution_count": 94,
   "metadata": {},
   "outputs": [
    {
     "data": {
      "text/html": [
       "<div>\n",
       "<style scoped>\n",
       "    .dataframe tbody tr th:only-of-type {\n",
       "        vertical-align: middle;\n",
       "    }\n",
       "\n",
       "    .dataframe tbody tr th {\n",
       "        vertical-align: top;\n",
       "    }\n",
       "\n",
       "    .dataframe thead th {\n",
       "        text-align: right;\n",
       "    }\n",
       "</style>\n",
       "<table border=\"1\" class=\"dataframe\">\n",
       "  <thead>\n",
       "    <tr style=\"text-align: right;\">\n",
       "      <th></th>\n",
       "      <th>rating</th>\n",
       "      <th>worldwide_gross</th>\n",
       "    </tr>\n",
       "  </thead>\n",
       "  <tbody>\n",
       "    <tr>\n",
       "      <th>66</th>\n",
       "      <td>PG-13</td>\n",
       "      <td>757930663.0</td>\n",
       "    </tr>\n",
       "    <tr>\n",
       "      <th>102</th>\n",
       "      <td>PG</td>\n",
       "      <td>631744560.0</td>\n",
       "    </tr>\n",
       "    <tr>\n",
       "      <th>38</th>\n",
       "      <td>PG</td>\n",
       "      <td>201151353.0</td>\n",
       "    </tr>\n",
       "    <tr>\n",
       "      <th>59</th>\n",
       "      <td>PG-13</td>\n",
       "      <td>644783140.0</td>\n",
       "    </tr>\n",
       "    <tr>\n",
       "      <th>168</th>\n",
       "      <td>PG</td>\n",
       "      <td>368744044.0</td>\n",
       "    </tr>\n",
       "  </tbody>\n",
       "</table>\n",
       "</div>"
      ],
      "text/plain": [
       "    rating  worldwide_gross\n",
       "66   PG-13      757930663.0\n",
       "102     PG      631744560.0\n",
       "38      PG      201151353.0\n",
       "59   PG-13      644783140.0\n",
       "168     PG      368744044.0"
      ]
     },
     "execution_count": 94,
     "metadata": {},
     "output_type": "execute_result"
    }
   ],
   "source": [
    "# select the appropriate columns and create a simplified dataframe to work with\n",
    "q2_data = movie_data[['rating', 'worldwide_gross']]\n",
    "q2_data.sample(5)"
   ]
  },
  {
   "cell_type": "markdown",
   "metadata": {},
   "source": [
    "The simple dataframe containing only the data required for the question has been created successfully. To work out the answer to the question, a visualisation is likely to be helpful."
   ]
  },
  {
   "cell_type": "code",
   "execution_count": null,
   "metadata": {},
   "outputs": [],
   "source": [
    "# plot the mean worldwide_gross for each of the film ratings\n",
    "q2_data.groupby('rating').mean().plot.bar(title = \"Mean worldwide gross for movie rating\", figsize = (10,7));"
   ]
  },
  {
   "cell_type": "markdown",
   "metadata": {},
   "source": [
    "From the barchart it can be seen that the mean average gross for each of the rating categories shows that the highest grossing movies are usual rated PG-13. The movies rated for younger audiences are less successful, though those for adult audiences (R) are the least highly grossing. To confirm the trend across the categories and not just the mean, a boxplot can be create to monitor the spread of the data."
   ]
  },
  {
   "cell_type": "code",
   "execution_count": 102,
   "metadata": {},
   "outputs": [
    {
     "data": {
      "image/png": "[encoded data removed]",
      "text/plain": [
       "<Figure size 720x504 with 1 Axes>"
      ]
     },
     "metadata": {
      "needs_background": "light"
     },
     "output_type": "display_data"
    }
   ],
   "source": [
    "q2_data.boxplot(by='rating', figsize = (10,7));"
   ]
  },
  {
   "cell_type": "markdown",
   "metadata": {},
   "source": [
    "The boxplots tell a similar story to the bar chart. It may have been that a couple of very high or low grossing movies in particular categories were skewing the mean. However, that does not seem to be the case. The upper limit of the ranges (excluding anomalies) follow the trend of the means.\n",
    "\n",
    "A possible explanation for the trend is that the movies rated G and PG, though they can be viewed by all audiences, are likely to be particularly targeted at children. Therefore, they are not of interest to most adult audiences. R movies naturally exclude the younger population and often are rated as such due to the high violence, swearing or sec scenes which can be a turn off for viewers.\n",
    "\n",
    "PG-13 movies may have the suitable middle ground for a lot of younger viewers (indeed aged 13 upwards) without being too distasteful for a more conservative adult audience. PG-13 movies have the widest realistic audience, rather than just on paper for the ages that can watch them.\n",
    "\n",
    "__To answer question 2:\n",
    "Yes (sort of), the movies that appeal to the largest audience i.e. PG-13, rather than the theoretical largest audience are the highest grossing movies.__"
   ]
  },
  {
   "cell_type": "markdown",
   "metadata": {},
   "source": [
    "## Question 3: Can the movie gross be predicted before release based on parameters in the dataset?\n",
    "\n",
    "This question is going to take some more thinking about. Firstly, we need to take the original dataset and work out which parameters are going to be useful to use for the model. Secondly, we will need to make sure the data is cleaned up and in the format required for a model i.e. numerical with no null values."
   ]
  },
  {
   "cell_type": "code",
   "execution_count": 113,
   "metadata": {},
   "outputs": [
    {
     "data": {
      "text/html": [
       "<div>\n",
       "<style scoped>\n",
       "    .dataframe tbody tr th:only-of-type {\n",
       "        vertical-align: middle;\n",
       "    }\n",
       "\n",
       "    .dataframe tbody tr th {\n",
       "        vertical-align: top;\n",
       "    }\n",
       "\n",
       "    .dataframe thead th {\n",
       "        text-align: right;\n",
       "    }\n",
       "</style>\n",
       "<table border=\"1\" class=\"dataframe\">\n",
       "  <thead>\n",
       "    <tr style=\"text-align: right;\">\n",
       "      <th></th>\n",
       "      <th>Main_Genre</th>\n",
       "      <th>Genre_2</th>\n",
       "      <th>Genre_3</th>\n",
       "      <th>imdb_rating</th>\n",
       "      <th>length</th>\n",
       "      <th>rank_in_year</th>\n",
       "      <th>rating</th>\n",
       "      <th>studio</th>\n",
       "      <th>title</th>\n",
       "      <th>worldwide_gross</th>\n",
       "      <th>year</th>\n",
       "    </tr>\n",
       "  </thead>\n",
       "  <tbody>\n",
       "    <tr>\n",
       "      <th>229</th>\n",
       "      <td>Thriller</td>\n",
       "      <td>Drama</td>\n",
       "      <td>Action</td>\n",
       "      <td>6.0</td>\n",
       "      <td>115</td>\n",
       "      <td>10</td>\n",
       "      <td>R</td>\n",
       "      <td>Warner Bros</td>\n",
       "      <td>Eraser</td>\n",
       "      <td>242295562.0</td>\n",
       "      <td>1996</td>\n",
       "    </tr>\n",
       "    <tr>\n",
       "      <th>436</th>\n",
       "      <td>Drama</td>\n",
       "      <td>Western</td>\n",
       "      <td>War</td>\n",
       "      <td>6.4</td>\n",
       "      <td>103</td>\n",
       "      <td>10</td>\n",
       "      <td>PG</td>\n",
       "      <td>Universal Pictures</td>\n",
       "      <td>The Other Side of the Mountain</td>\n",
       "      <td>34673100.0</td>\n",
       "      <td>1975</td>\n",
       "    </tr>\n",
       "    <tr>\n",
       "      <th>238</th>\n",
       "      <td>Sci-Fi</td>\n",
       "      <td>Adventure</td>\n",
       "      <td>Action</td>\n",
       "      <td>6.1</td>\n",
       "      <td>135</td>\n",
       "      <td>9</td>\n",
       "      <td>PG-13</td>\n",
       "      <td>Universal Pictures</td>\n",
       "      <td>Waterworld</td>\n",
       "      <td>264218220.0</td>\n",
       "      <td>1995</td>\n",
       "    </tr>\n",
       "    <tr>\n",
       "      <th>427</th>\n",
       "      <td>Crime</td>\n",
       "      <td>Comedy</td>\n",
       "      <td>Action</td>\n",
       "      <td>6.9</td>\n",
       "      <td>114</td>\n",
       "      <td>8</td>\n",
       "      <td>PG</td>\n",
       "      <td>20th Century Fox</td>\n",
       "      <td>Silver Streak</td>\n",
       "      <td>51079064.0</td>\n",
       "      <td>1976</td>\n",
       "    </tr>\n",
       "    <tr>\n",
       "      <th>36</th>\n",
       "      <td>Action</td>\n",
       "      <td>Adventure</td>\n",
       "      <td>Fantasy</td>\n",
       "      <td>6.6</td>\n",
       "      <td>137</td>\n",
       "      <td>7</td>\n",
       "      <td>PG-13</td>\n",
       "      <td>Lionsgate Films</td>\n",
       "      <td>The Hunger Games: Mockingjay - Part 2</td>\n",
       "      <td>281723902.0</td>\n",
       "      <td>2015</td>\n",
       "    </tr>\n",
       "  </tbody>\n",
       "</table>\n",
       "</div>"
      ],
      "text/plain": [
       "    Main_Genre    Genre_2  Genre_3  imdb_rating  length  rank_in_year rating  \\\n",
       "229   Thriller      Drama   Action          6.0     115            10      R   \n",
       "436      Drama    Western      War          6.4     103            10     PG   \n",
       "238     Sci-Fi  Adventure   Action          6.1     135             9  PG-13   \n",
       "427      Crime     Comedy   Action          6.9     114             8     PG   \n",
       "36      Action  Adventure  Fantasy          6.6     137             7  PG-13   \n",
       "\n",
       "                 studio                                  title  \\\n",
       "229         Warner Bros                                 Eraser   \n",
       "436  Universal Pictures         The Other Side of the Mountain   \n",
       "238  Universal Pictures                             Waterworld   \n",
       "427    20th Century Fox                          Silver Streak   \n",
       "36      Lionsgate Films  The Hunger Games: Mockingjay - Part 2   \n",
       "\n",
       "     worldwide_gross  year  \n",
       "229      242295562.0  1996  \n",
       "436       34673100.0  1975  \n",
       "238      264218220.0  1995  \n",
       "427       51079064.0  1976  \n",
       "36       281723902.0  2015  "
      ]
     },
     "execution_count": 113,
     "metadata": {},
     "output_type": "execute_result"
    }
   ],
   "source": [
    "# lets have another look at the data that we have got\n",
    "movie_data.sample(5)"
   ]
  },
  {
   "cell_type": "markdown",
   "metadata": {},
   "source": [
    "Looking at the data, there are several columns that should be dropped before applying the model:\n",
    "- imdb_rating: this wouldn't be known before the film release\n",
    "- rank_in_year: this wouldn't be known before the film release\n",
    "- title: generally film titles are unique and therefore would not be an accurate predictor of worldwide gross\n",
    "- year: the previous years won't be repeated so including them in the model will likely create a more inaccurate model when used on new data"
   ]
  },
  {
   "cell_type": "code",
   "execution_count": 114,
   "metadata": {},
   "outputs": [
    {
     "data": {
      "text/html": [
       "<div>\n",
       "<style scoped>\n",
       "    .dataframe tbody tr th:only-of-type {\n",
       "        vertical-align: middle;\n",
       "    }\n",
       "\n",
       "    .dataframe tbody tr th {\n",
       "        vertical-align: top;\n",
       "    }\n",
       "\n",
       "    .dataframe thead th {\n",
       "        text-align: right;\n",
       "    }\n",
       "</style>\n",
       "<table border=\"1\" class=\"dataframe\">\n",
       "  <thead>\n",
       "    <tr style=\"text-align: right;\">\n",
       "      <th></th>\n",
       "      <th>Main_Genre</th>\n",
       "      <th>Genre_2</th>\n",
       "      <th>Genre_3</th>\n",
       "      <th>length</th>\n",
       "      <th>rating</th>\n",
       "      <th>studio</th>\n",
       "      <th>worldwide_gross</th>\n",
       "    </tr>\n",
       "  </thead>\n",
       "  <tbody>\n",
       "    <tr>\n",
       "      <th>310</th>\n",
       "      <td>Family</td>\n",
       "      <td>Drama</td>\n",
       "      <td>Comedy</td>\n",
       "      <td>102</td>\n",
       "      <td>PG</td>\n",
       "      <td>Walt Disney Pictures</td>\n",
       "      <td>167780960.0</td>\n",
       "    </tr>\n",
       "    <tr>\n",
       "      <th>169</th>\n",
       "      <td>Sci-Fi</td>\n",
       "      <td>Mystery</td>\n",
       "      <td>Action</td>\n",
       "      <td>145</td>\n",
       "      <td>PG-13</td>\n",
       "      <td>DreamWorks</td>\n",
       "      <td>358372926.0</td>\n",
       "    </tr>\n",
       "    <tr>\n",
       "      <th>373</th>\n",
       "      <td>Romance</td>\n",
       "      <td>Comedy</td>\n",
       "      <td>NaN</td>\n",
       "      <td>97</td>\n",
       "      <td>PG</td>\n",
       "      <td>Warner Bros</td>\n",
       "      <td>95461682.0</td>\n",
       "    </tr>\n",
       "    <tr>\n",
       "      <th>181</th>\n",
       "      <td>Drama</td>\n",
       "      <td>Action</td>\n",
       "      <td>NaN</td>\n",
       "      <td>155</td>\n",
       "      <td>R</td>\n",
       "      <td>DreamWorks</td>\n",
       "      <td>457640427.0</td>\n",
       "    </tr>\n",
       "    <tr>\n",
       "      <th>236</th>\n",
       "      <td>Thriller</td>\n",
       "      <td>Drama</td>\n",
       "      <td>Thriller</td>\n",
       "      <td>127</td>\n",
       "      <td>R</td>\n",
       "      <td>Warner Bros</td>\n",
       "      <td>327311859.0</td>\n",
       "    </tr>\n",
       "  </tbody>\n",
       "</table>\n",
       "</div>"
      ],
      "text/plain": [
       "    Main_Genre  Genre_2   Genre_3  length rating                studio  \\\n",
       "310     Family    Drama    Comedy     102     PG  Walt Disney Pictures   \n",
       "169     Sci-Fi  Mystery    Action     145  PG-13            DreamWorks   \n",
       "373    Romance   Comedy       NaN      97     PG           Warner Bros   \n",
       "181      Drama   Action       NaN     155      R            DreamWorks   \n",
       "236   Thriller    Drama  Thriller     127      R           Warner Bros   \n",
       "\n",
       "     worldwide_gross  \n",
       "310      167780960.0  \n",
       "169      358372926.0  \n",
       "373       95461682.0  \n",
       "181      457640427.0  \n",
       "236      327311859.0  "
      ]
     },
     "execution_count": 114,
     "metadata": {},
     "output_type": "execute_result"
    }
   ],
   "source": [
    "# drop the columns that are not required\n",
    "q3_data = movie_data.drop(['imdb_rating', 'rank_in_year', 'title', 'year'], axis = 1)\n",
    "q3_data.sample(5)"
   ]
  },
  {
   "cell_type": "markdown",
   "metadata": {},
   "source": [
    "That has now left us with the data that we're going to want to use for the analysis. The predictor variables, or X variables, will be the three genre columns, length, rating and studio. The worldwide_gross is the dependent, or y, variable i.e. the one we want to predict.\n",
    "\n",
    "To do this, I am going to use a linear regression model and for that I'm going to need to import some of the tools required to create and test my model. Usually, imports would be done ast the beginning of the script, but as I want to keep the necessary information together for clarity I will import them now."
   ]
  },
  {
   "cell_type": "code",
   "execution_count": 115,
   "metadata": {},
   "outputs": [],
   "source": [
    "# import tools\n",
    "from sklearn.linear_model import LinearRegression\n",
    "from sklearn.model_selection import train_test_split\n",
    "from sklearn.metrics import r2_score, mean_squared_error"
   ]
  },
  {
   "cell_type": "markdown",
   "metadata": {},
   "source": [
    "Before the model can be applied, the columns need cleaning up to prevent errors. All the predictor columns, except length, are going to need encoding as they are object types. There are 2 types of encoding method here that could be used: either encode the values in the column or create new columns for each object to be encoded. The issue with the former is that the computer assigns a hierachy to the valyes though there isn't necessarily one. The issue with the latter is that we will end up with a very large dataframe which is going to be very inefficient. For the time being, the first approach will be used and the encoding method \"Label Encoder\" will be used.\n",
    "\n",
    "We should remember that there were some null values in two of the genre columns - this is actually useful information so it would be unwise to drop these values. It would be useufl to include these in the model as they could be informative for the predictions. So they can be used, they should be covnerted to strings."
   ]
  },
  {
   "cell_type": "code",
   "execution_count": 116,
   "metadata": {},
   "outputs": [
    {
     "data": {
      "text/html": [
       "<div>\n",
       "<style scoped>\n",
       "    .dataframe tbody tr th:only-of-type {\n",
       "        vertical-align: middle;\n",
       "    }\n",
       "\n",
       "    .dataframe tbody tr th {\n",
       "        vertical-align: top;\n",
       "    }\n",
       "\n",
       "    .dataframe thead th {\n",
       "        text-align: right;\n",
       "    }\n",
       "</style>\n",
       "<table border=\"1\" class=\"dataframe\">\n",
       "  <thead>\n",
       "    <tr style=\"text-align: right;\">\n",
       "      <th></th>\n",
       "      <th>Main_Genre</th>\n",
       "      <th>Genre_2</th>\n",
       "      <th>Genre_3</th>\n",
       "      <th>length</th>\n",
       "      <th>rating</th>\n",
       "      <th>studio</th>\n",
       "      <th>worldwide_gross</th>\n",
       "    </tr>\n",
       "  </thead>\n",
       "  <tbody>\n",
       "    <tr>\n",
       "      <th>247</th>\n",
       "      <td>31</td>\n",
       "      <td>9</td>\n",
       "      <td>6</td>\n",
       "      <td>117</td>\n",
       "      <td>30</td>\n",
       "      <td>37</td>\n",
       "      <td>245700832.0</td>\n",
       "    </tr>\n",
       "    <tr>\n",
       "      <th>391</th>\n",
       "      <td>16</td>\n",
       "      <td>9</td>\n",
       "      <td>23</td>\n",
       "      <td>117</td>\n",
       "      <td>30</td>\n",
       "      <td>19</td>\n",
       "      <td>86432520.0</td>\n",
       "    </tr>\n",
       "    <tr>\n",
       "      <th>67</th>\n",
       "      <td>6</td>\n",
       "      <td>2</td>\n",
       "      <td>3</td>\n",
       "      <td>93</td>\n",
       "      <td>26</td>\n",
       "      <td>28</td>\n",
       "      <td>746921274.0</td>\n",
       "    </tr>\n",
       "    <tr>\n",
       "      <th>203</th>\n",
       "      <td>31</td>\n",
       "      <td>6</td>\n",
       "      <td>23</td>\n",
       "      <td>119</td>\n",
       "      <td>30</td>\n",
       "      <td>0</td>\n",
       "      <td>369884651.0</td>\n",
       "    </tr>\n",
       "    <tr>\n",
       "      <th>147</th>\n",
       "      <td>2</td>\n",
       "      <td>23</td>\n",
       "      <td>23</td>\n",
       "      <td>163</td>\n",
       "      <td>30</td>\n",
       "      <td>40</td>\n",
       "      <td>497409852.0</td>\n",
       "    </tr>\n",
       "    <tr>\n",
       "      <th>229</th>\n",
       "      <td>36</td>\n",
       "      <td>9</td>\n",
       "      <td>1</td>\n",
       "      <td>115</td>\n",
       "      <td>30</td>\n",
       "      <td>40</td>\n",
       "      <td>242295562.0</td>\n",
       "    </tr>\n",
       "    <tr>\n",
       "      <th>343</th>\n",
       "      <td>16</td>\n",
       "      <td>6</td>\n",
       "      <td>23</td>\n",
       "      <td>106</td>\n",
       "      <td>26</td>\n",
       "      <td>40</td>\n",
       "      <td>153083102.0</td>\n",
       "    </tr>\n",
       "    <tr>\n",
       "      <th>144</th>\n",
       "      <td>9</td>\n",
       "      <td>23</td>\n",
       "      <td>23</td>\n",
       "      <td>127</td>\n",
       "      <td>30</td>\n",
       "      <td>25</td>\n",
       "      <td>611899420.0</td>\n",
       "    </tr>\n",
       "    <tr>\n",
       "      <th>84</th>\n",
       "      <td>6</td>\n",
       "      <td>3</td>\n",
       "      <td>2</td>\n",
       "      <td>93</td>\n",
       "      <td>26</td>\n",
       "      <td>28</td>\n",
       "      <td>752600867.0</td>\n",
       "    </tr>\n",
       "    <tr>\n",
       "      <th>6</th>\n",
       "      <td>1</td>\n",
       "      <td>6</td>\n",
       "      <td>23</td>\n",
       "      <td>118</td>\n",
       "      <td>27</td>\n",
       "      <td>38</td>\n",
       "      <td>216648740.0</td>\n",
       "    </tr>\n",
       "  </tbody>\n",
       "</table>\n",
       "</div>"
      ],
      "text/plain": [
       "     Main_Genre  Genre_2  Genre_3  length  rating  studio  worldwide_gross\n",
       "247          31        9        6     117      30      37      245700832.0\n",
       "391          16        9       23     117      30      19       86432520.0\n",
       "67            6        2        3      93      26      28      746921274.0\n",
       "203          31        6       23     119      30       0      369884651.0\n",
       "147           2       23       23     163      30      40      497409852.0\n",
       "229          36        9        1     115      30      40      242295562.0\n",
       "343          16        6       23     106      26      40      153083102.0\n",
       "144           9       23       23     127      30      25      611899420.0\n",
       "84            6        3        2      93      26      28      752600867.0\n",
       "6             1        6       23     118      27      38      216648740.0"
      ]
     },
     "execution_count": 116,
     "metadata": {},
     "output_type": "execute_result"
    }
   ],
   "source": [
    "# import relevant function\n",
    "from sklearn.preprocessing import LabelEncoder\n",
    "\n",
    "# instantiate label encoder\n",
    "label_encoder= LabelEncoder()\n",
    "\n",
    "# replace null values with a string so they can be encoded\n",
    "q3_data = q3_data.fillna('NaN')\n",
    "\n",
    "# create encoder values for the dataframe, a value for each unique string in the columns stated\n",
    "label_encoder.fit(q3_data[['Main_Genre', 'Genre_2', 'Genre_3', 'rating', 'studio']].stack().unique())\n",
    "\n",
    "q3_data['Main_Genre'] = label_encoder.transform(q3_data['Main_Genre'])\n",
    "q3_data['Genre_2'] = label_encoder.transform(q3_data['Genre_2'])\n",
    "q3_data['Genre_3'] = label_encoder.transform(q3_data['Genre_3'])\n",
    "q3_data['rating'] = label_encoder.transform(q3_data['rating'])\n",
    "q3_data['studio'] = label_encoder.transform(q3_data['studio'])\n",
    "\n",
    "q3_data.sample(10)"
   ]
  },
  {
   "cell_type": "markdown",
   "metadata": {},
   "source": [
    "Now the data has been encoded, we can fit our Regression Model. To test how good our model is, it is important to split the data into test and train sets. That way we can train the model on some of the data and test how good it is on brand new data."
   ]
  },
  {
   "cell_type": "code",
   "execution_count": 121,
   "metadata": {},
   "outputs": [],
   "source": [
    "# assign the relevant columns of the dataframe into X and y\n",
    "X = q3_data[['Main_Genre', 'Genre_2', 'Genre_3', 'length', 'rating', 'studio']]\n",
    "y = q3_data[['worldwide_gross']]\n",
    "\n",
    "# split the data into train and test sets\n",
    "X_train, X_test, y_train, y_test = train_test_split(X, y, test_size = .30, random_state=42) "
   ]
  },
  {
   "cell_type": "code",
   "execution_count": 122,
   "metadata": {},
   "outputs": [
    {
     "data": {
      "text/plain": [
       "'The r-squared score for your model was 0.15821370970915838 on 132 values.'"
      ]
     },
     "execution_count": 122,
     "metadata": {},
     "output_type": "execute_result"
    }
   ],
   "source": [
    "# instantiate the linear regression model\n",
    "lm_model = LinearRegression()\n",
    "\n",
    "# fit the linear regression model\n",
    "lm_model.fit(X_train, y_train)\n",
    "\n",
    "# predict the worldwide_gross for the test data\n",
    "y_test_preds = lm_model.predict(X_test)\n",
    "\n",
    "# evaluate how good the model is\n",
    "\"The r-squared score for your model was {} on {} values.\".format(r2_score(y_test, y_test_preds), len(y_test))"
   ]
  },
  {
   "cell_type": "markdown",
   "metadata": {},
   "source": [
    "The calculated r-squared score is between 0 and 1: values lower than 0.12 indicate a low score, values above 0.26 are considered high scores. In this case, the model prediction is on the lower side of fair. So not really that reliable. Perhaps the model could be improved by using fewer predictor variables. This could be done for instance by removing the length of the movie as shown below..."
   ]
  },
  {
   "cell_type": "code",
   "execution_count": 123,
   "metadata": {},
   "outputs": [
    {
     "data": {
      "text/plain": [
       "'The r-squared score for your model was 0.04501228629066534 on 132 values.'"
      ]
     },
     "execution_count": 123,
     "metadata": {},
     "output_type": "execute_result"
    }
   ],
   "source": [
    "# assign the relevant columns of the dataframe into X and y\n",
    "X = q3_data[['Main_Genre', 'Genre_2', 'Genre_3', 'rating', 'studio']]\n",
    "y = q3_data[['worldwide_gross']]\n",
    "\n",
    "# split the data into train and test sets\n",
    "X_train, X_test, y_train, y_test = train_test_split(X, y, test_size = .30, random_state=42) \n",
    "\n",
    "# instantiate the linear regression model\n",
    "lm_model = LinearRegression()\n",
    "\n",
    "# fit the linear regression model\n",
    "lm_model.fit(X_train, y_train)\n",
    "\n",
    "# predict the worldwide_gross for the test data\n",
    "y_test_preds = lm_model.predict(X_test)\n",
    "\n",
    "# evaluate how good the model is\n",
    "\"The r-squared score for your model was {} on {} values.\".format(r2_score(y_test, y_test_preds), len(y_test))"
   ]
  },
  {
   "cell_type": "markdown",
   "metadata": {},
   "source": [
    "Removing the length of the movie as an indicator really deminishes the accuracy of the model - this is not something we want to remove.\n",
    "\n",
    "Instead you could remove the additional genre categories and try again:"
   ]
  },
  {
   "cell_type": "code",
   "execution_count": 124,
   "metadata": {},
   "outputs": [
    {
     "data": {
      "text/plain": [
       "'The r-squared score for your model was 0.13343651348005015 on 132 values.'"
      ]
     },
     "execution_count": 124,
     "metadata": {},
     "output_type": "execute_result"
    }
   ],
   "source": [
    "# assign the relevant columns of the dataframe into X and y\n",
    "X = q3_data[['Main_Genre', 'length', 'rating', 'studio']]\n",
    "y = q3_data[['worldwide_gross']]\n",
    "\n",
    "# split the data into train and test sets\n",
    "X_train, X_test, y_train, y_test = train_test_split(X, y, test_size = .30, random_state=42) \n",
    "\n",
    "# instantiate the linear regression model\n",
    "lm_model = LinearRegression()\n",
    "\n",
    "# fit the linear regression model\n",
    "lm_model.fit(X_train, y_train)\n",
    "\n",
    "# predict the worldwide_gross for the test data\n",
    "y_test_preds = lm_model.predict(X_test)\n",
    "\n",
    "# evaluate how good the model is\n",
    "\"The r-squared score for your model was {} on {} values.\".format(r2_score(y_test, y_test_preds), len(y_test))"
   ]
  },
  {
   "cell_type": "markdown",
   "metadata": {},
   "source": [
    "This has diminished the accuracy a little bit but not a great deal. \n",
    "\n",
    "The above models have been done with a random selection of predictor variables, but to really explore further which variables are worth using in the prediction model, something like a Principle Component Analysis or a correlation algorithm could be used to determine the correlation between the variables to see which predictors are most likely to impact on the worldwide gross."
   ]
  },
  {
   "cell_type": "code",
   "execution_count": 131,
   "metadata": {},
   "outputs": [
    {
     "data": {
      "text/plain": [
       "<matplotlib.axes._subplots.AxesSubplot at 0x1a1e9e8dd8>"
      ]
     },
     "execution_count": 131,
     "metadata": {},
     "output_type": "execute_result"
    },
    {
     "data": {
      "image/png": "[encoded data removed]",
      "text/plain": [
       "<Figure size 432x288 with 2 Axes>"
      ]
     },
     "metadata": {
      "needs_background": "light"
     },
     "output_type": "display_data"
    }
   ],
   "source": [
    "# use a correlation algorithm on the data\n",
    "sns.heatmap(q3_data.corr(), annot = True)"
   ]
  },
  {
   "cell_type": "markdown",
   "metadata": {},
   "source": [
    "Based on the above correlation matrix, it looks like the highest correlation between the worldwide_gross and it's predictors are: length, rating, genre_2 and genre_3. Perhaps it's worth looking to see if using these variables creates a more accurate predictor model."
   ]
  },
  {
   "cell_type": "code",
   "execution_count": 137,
   "metadata": {},
   "outputs": [
    {
     "data": {
      "text/plain": [
       "'The r-squared score for your model was 0.15237738039868842 on 132 values.'"
      ]
     },
     "execution_count": 137,
     "metadata": {},
     "output_type": "execute_result"
    }
   ],
   "source": [
    "# assign the relevant columns of the dataframe into X and y\n",
    "X = q3_data[['Genre_2', 'Genre_3', 'length', 'rating']]\n",
    "y = q3_data[['worldwide_gross']]\n",
    "\n",
    "# split the data into train and test sets\n",
    "X_train, X_test, y_train, y_test = train_test_split(X, y, test_size = .30, random_state=42) \n",
    "\n",
    "# instantiate the linear regression model\n",
    "lm_model = LinearRegression()\n",
    "\n",
    "# fit the linear regression model\n",
    "lm_model.fit(X_train, y_train)\n",
    "\n",
    "# predict the worldwide_gross for the test data\n",
    "y_test_preds = lm_model.predict(X_test)\n",
    "\n",
    "# evaluate how good the model is\n",
    "\"The r-squared score for your model was {} on {} values.\".format(r2_score(y_test, y_test_preds), len(y_test))"
   ]
  },
  {
   "cell_type": "markdown",
   "metadata": {},
   "source": [
    "Using just a select few of the predictor variables based on their correlation to the outcome variable has yeilded a slightly worst predictor model than with all the values.\n",
    "\n",
    "There could be a couple of reasons the predictor model isn't doing a great job:\n",
    "1. a different model would be more appropriate to a linear regression\n",
    "2. the encoding method was poor and perhaps doing a non-hierachical one would have been more appropriate\n",
    "3. the data is just too varied to be able to predict how well a movie is going to do\n",
    "\n",
    "__To answer question 3: based on this model, no we can not predict how well a movie is going to do based on the data that has been collected pre-release__"
   ]
  },
  {
   "cell_type": "code",
   "execution_count": null,
   "metadata": {},
   "outputs": [],
   "source": []
  }
 ],
 "metadata": {
  "kernelspec": {
   "display_name": "Python 3",
   "language": "python",
   "name": "python3"
  },
  "language_info": {
   "codemirror_mode": {
    "name": "ipython",
    "version": 3
   },
   "file_extension": ".py",
   "mimetype": "text/x-python",
   "name": "python",
   "nbconvert_exporter": "python",
   "pygments_lexer": "ipython3",
   "version": "3.7.3"
  }
 },
 "nbformat": 4,
 "nbformat_minor": 2
}
